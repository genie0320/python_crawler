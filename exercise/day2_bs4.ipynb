{
 "cells": [
  {
   "cell_type": "markdown",
   "metadata": {},
   "source": [
    "# find & find_all\n"
   ]
  },
  {
   "cell_type": "code",
   "execution_count": 1,
   "metadata": {},
   "outputs": [],
   "source": [
    "# import requests\n",
    "# from bs4 import BeautifulSoup as bs\n",
    "\n",
    "# URL = \"http://crawlingstudy-dd3c9.web.app/01\"\n",
    "\n",
    "# response = requests.get(URL)\n",
    "# soup = bs(response.text, \"html.parser\")"
   ]
  },
  {
   "cell_type": "code",
   "execution_count": null,
   "metadata": {},
   "outputs": [],
   "source": [
    "# question 01\n",
    "# result = soup.find(id=\"cook\")"
   ]
  },
  {
   "cell_type": "code",
   "execution_count": 22,
   "metadata": {},
   "outputs": [
    {
     "data": {
      "text/plain": [
       "[{'이름': '이몽룡', '나이': '34'}, {'이름': '홍길동', '나이': '23'}]"
      ]
     },
     "execution_count": 22,
     "metadata": {},
     "output_type": "execute_result"
    }
   ],
   "source": [
    "# question 02\n",
    "# result = soup.find_all(\"th\")\n",
    "# result2 = soup.find(\"tbody\").find_all(\"tr\")\n",
    "\n",
    "# keys = [x.text for x in result]\n",
    "\n",
    "# lists = []\n",
    "# for el in result2:\n",
    "#     el = el.find_all(\"td\")\n",
    "#     text = [x.text for x in el]\n",
    "#     lists.append(dict(zip(keys, text)))\n",
    "\n",
    "# lists\n",
    "\n",
    "####################################\n",
    "# [{'이름': '이몽룡', '나이': '34'}, {'이름': '홍길동', '나이': '23'}]"
   ]
  },
  {
   "cell_type": "code",
   "execution_count": 31,
   "metadata": {},
   "outputs": [
    {
     "name": "stdout",
     "output_type": "stream",
     "text": [
      "크롤링 연습사이트 01-1 페이지입니다.\n",
      "크롤링 연습사이트 01-2 페이지입니다.\n",
      "크롤링 연습사이트 01-3 페이지입니다.\n",
      "크롤링 연습사이트 01-4 페이지입니다.\n"
     ]
    }
   ],
   "source": [
    "# urls = soup.find_all(\"a\")\n",
    "\n",
    "# for url in urls:\n",
    "#     res = requests.get(URL + \"/\" + url.attrs[\"href\"])\n",
    "#     resp = bs(res.text, \"html.parser\")\n",
    "\n",
    "#     resp_ = resp.find(\"p\").text.strip()\n",
    "#     print(resp_)\n",
    "\n",
    "####################################\n",
    "# 크롤링 연습사이트 01-1 페이지입니다.\n",
    "# 크롤링 연습사이트 01-2 페이지입니다.\n",
    "# 크롤링 연습사이트 01-3 페이지입니다.\n",
    "# 크롤링 연습사이트 01-4 페이지입니다."
   ]
  },
  {
   "cell_type": "markdown",
   "metadata": {},
   "source": [
    "# select_one & select\n",
    "\n",
    "select returns list.\n",
    "css 셀렉터를 거의 그대로 활용할 수 있다.\n"
   ]
  },
  {
   "cell_type": "code",
   "execution_count": 32,
   "metadata": {},
   "outputs": [],
   "source": [
    "# import requests\n",
    "# from bs4 import BeautifulSoup as bs\n",
    "\n",
    "# URL = \"http://crawlingstudy-dd3c9.web.app/02\"\n",
    "\n",
    "# response = requests.get(URL)\n",
    "# soup = bs(response.text, \"html.parser\")"
   ]
  },
  {
   "cell_type": "code",
   "execution_count": 35,
   "metadata": {},
   "outputs": [
    {
     "name": "stdout",
     "output_type": "stream",
     "text": [
      "첫번쨰리스트\n",
      "두번째리스트\n",
      "세번째리스트\n",
      "네번째리스트\n"
     ]
    }
   ],
   "source": [
    "# el = soup.select_one(\"ul\").select(\"li\")\n",
    "\n",
    "# for e in el:\n",
    "#     print(e.text)\n",
    "\n",
    "####################################\n",
    "# 첫번쨰리스트\n",
    "# 두번째리스트\n",
    "# 세번째리스트\n",
    "# 네번째리스트"
   ]
  },
  {
   "cell_type": "markdown",
   "metadata": {},
   "source": [
    "# Exercise\n"
   ]
  },
  {
   "cell_type": "code",
   "execution_count": 41,
   "metadata": {},
   "outputs": [
    {
     "name": "stdout",
     "output_type": "stream",
     "text": [
      "200\n"
     ]
    }
   ],
   "source": [
    "import requests\n",
    "from bs4 import BeautifulSoup as bs\n",
    "\n",
    "URL = \"http://crawlingstudy-dd3c9.web.app/03\"\n",
    "\n",
    "response = requests.get(URL)\n",
    "print(response.status_code)\n",
    "\n",
    "soup = bs(response.text, \"html.parser\")"
   ]
  },
  {
   "cell_type": "code",
   "execution_count": 53,
   "metadata": {},
   "outputs": [
    {
     "name": "stdout",
     "output_type": "stream",
     "text": [
      "[['써니전자', '5,000'], ['삼성전자', '55,200'], ['안랩', '81,000'], ['케이엠더블..', '57,300'], ['피피아이', '12,600'], ['KT&G', '92,500'], ['삼성전자우', '45,600'], ['대양금속', '10,550'], ['SK하이닉스', '94,700'], ['SK텔레콤', '234,000']]\n"
     ]
    }
   ],
   "source": [
    "# fav = soup.find(\"ul\", attrs={\"id\": \"popularItemList\"})\n",
    "fav = soup.select(\"#popularItemList li\")\n",
    "\n",
    "result = []\n",
    "for el in fav:\n",
    "    key = el.find(\"a\").text.strip()\n",
    "    value = el.find(\"span\").text.strip()\n",
    "\n",
    "    result.append([key, value])\n",
    "\n",
    "print(result)"
   ]
  },
  {
   "cell_type": "code",
   "execution_count": 57,
   "metadata": {},
   "outputs": [
    {
     "data": {
      "text/plain": [
       "[['다우산업', '28,647.43'],\n",
       " ['나스닥', '9,015.03'],\n",
       " ['홍콩H', '11,320.56'],\n",
       " ['상해종합', '3,085.20'],\n",
       " ['니케이225', '23,656.62']]"
      ]
     },
     "execution_count": 57,
     "metadata": {},
     "output_type": "execute_result"
    }
   ],
   "source": [
    "result2 = []\n",
    "\n",
    "abr = soup.select(\".lst_major li\")\n",
    "\n",
    "for a in abr:\n",
    "    key = a.find(\"a\").text.strip()\n",
    "    value = a.find(\"span\").text.strip()\n",
    "\n",
    "    result2.append([key, value])\n",
    "\n",
    "result2"
   ]
  },
  {
   "cell_type": "code",
   "execution_count": 59,
   "metadata": {},
   "outputs": [
    {
     "name": "stdout",
     "output_type": "stream",
     "text": [
      "[['써니전자', '상한'], ['삼성전자', '하락'], ['안랩', '상승'], ['케이엠더블..', '상승'], ['피피아이', '상한'], ['KT&G', '하락'], ['삼성전자우', '상승'], ['대양금속', '하한'], ['SK하이닉스', '상승'], ['SK텔레콤', '하락']]\n"
     ]
    }
   ],
   "source": [
    "fav = soup.select(\"#popularItemList li\")\n",
    "\n",
    "result = []\n",
    "for el in fav:\n",
    "    key = el.find(\"a\").text.strip()\n",
    "    value = el.find(\"img\").attrs[\"alt\"].strip()\n",
    "\n",
    "    result.append([key, value])\n",
    "\n",
    "print(result)"
   ]
  },
  {
   "cell_type": "code",
   "execution_count": 61,
   "metadata": {},
   "outputs": [
    {
     "name": "stdout",
     "output_type": "stream",
     "text": [
      "[['다우산업', '상한'], ['나스닥', '상한'], ['홍콩H', '상한'], ['상해종합', '상한'], ['니케이225', '하락']]\n"
     ]
    }
   ],
   "source": [
    "fav = soup.select(\".lst_major li\")\n",
    "\n",
    "result2 = []\n",
    "for el in fav:\n",
    "    key = el.find(\"a\").text.strip()\n",
    "    value = el.find(\"img\").attrs[\"alt\"].strip()\n",
    "\n",
    "    result2.append([key, value])\n",
    "\n",
    "print(result2)"
   ]
  },
  {
   "cell_type": "code",
   "execution_count": 63,
   "metadata": {},
   "outputs": [
    {
     "name": "stdout",
     "output_type": "stream",
     "text": [
      "[['써니전자', '5,000'], ['피피아이', '12,600']]\n"
     ]
    }
   ],
   "source": [
    "fav = soup.select(\"#popularItemList li\")\n",
    "\n",
    "result = []\n",
    "for el in fav:\n",
    "    key = el.find(\"a\").text.strip()\n",
    "    val_ = el.find(\"img\").attrs[\"alt\"].strip()\n",
    "\n",
    "    if val_ == \"상한\":\n",
    "        value = el.find(\"span\").text.strip()\n",
    "    else:\n",
    "        continue\n",
    "\n",
    "    result.append([key, value])\n",
    "\n",
    "print(result)"
   ]
  },
  {
   "cell_type": "code",
   "execution_count": 64,
   "metadata": {},
   "outputs": [
    {
     "name": "stdout",
     "output_type": "stream",
     "text": [
      "[['다우산업', '28,647.43'], ['나스닥', '9,015.03'], ['홍콩H', '11,320.56'], ['상해종합', '3,085.20']]\n"
     ]
    }
   ],
   "source": [
    "fav = soup.select(\".lst_major li\")\n",
    "\n",
    "result2 = []\n",
    "for el in fav:\n",
    "    key = el.find(\"a\").text.strip()\n",
    "    val_ = el.find(\"img\").attrs[\"alt\"].strip()\n",
    "\n",
    "    if val_ == \"상한\":\n",
    "        value = el.find(\"span\").text.strip()\n",
    "    else:\n",
    "        continue\n",
    "\n",
    "    result2.append([key, value])\n",
    "\n",
    "print(result2)"
   ]
  },
  {
   "cell_type": "code",
   "execution_count": 96,
   "metadata": {},
   "outputs": [
    {
     "ename": "ValueError",
     "evalue": "setting an array element with a sequence. The requested array has an inhomogeneous shape after 1 dimensions. The detected shape was (4,) + inhomogeneous part.",
     "output_type": "error",
     "traceback": [
      "\u001b[1;31m---------------------------------------------------------------------------\u001b[0m",
      "\u001b[1;31mValueError\u001b[0m                                Traceback (most recent call last)",
      "Cell \u001b[1;32mIn[96], line 13\u001b[0m\n\u001b[0;32m     11\u001b[0m items_ \u001b[38;5;241m=\u001b[39m [item\u001b[38;5;241m.\u001b[39msplit(\u001b[38;5;124m\"\u001b[39m\u001b[38;5;124m/\u001b[39m\u001b[38;5;124m\"\u001b[39m) \u001b[38;5;28;01mif\u001b[39;00m \u001b[38;5;124m\"\u001b[39m\u001b[38;5;124m/\u001b[39m\u001b[38;5;124m\"\u001b[39m \u001b[38;5;129;01min\u001b[39;00m item \u001b[38;5;28;01melse\u001b[39;00m item \u001b[38;5;28;01mfor\u001b[39;00m item \u001b[38;5;129;01min\u001b[39;00m items]\n\u001b[0;32m     12\u001b[0m cont_ \u001b[38;5;241m=\u001b[39m [item\u001b[38;5;241m.\u001b[39msplit(\u001b[38;5;124m\"\u001b[39m\u001b[38;5;124m|\u001b[39m\u001b[38;5;124m\"\u001b[39m) \u001b[38;5;28;01mif\u001b[39;00m \u001b[38;5;124m\"\u001b[39m\u001b[38;5;124m|\u001b[39m\u001b[38;5;124m\"\u001b[39m \u001b[38;5;129;01min\u001b[39;00m item \u001b[38;5;28;01melse\u001b[39;00m item \u001b[38;5;28;01mfor\u001b[39;00m item \u001b[38;5;129;01min\u001b[39;00m contents]\n\u001b[1;32m---> 13\u001b[0m flattened_list \u001b[38;5;241m=\u001b[39m \u001b[43mnp\u001b[49m\u001b[38;5;241;43m.\u001b[39;49m\u001b[43marray\u001b[49m\u001b[43m(\u001b[49m\u001b[43mitems_\u001b[49m\u001b[43m)\u001b[49m\u001b[38;5;241m.\u001b[39mflatten()\u001b[38;5;241m.\u001b[39mtolist()\n\u001b[0;32m     14\u001b[0m flattened_list \u001b[38;5;241m=\u001b[39m np\u001b[38;5;241m.\u001b[39marray(cont_)\u001b[38;5;241m.\u001b[39mflatten()\u001b[38;5;241m.\u001b[39mtolist()\n\u001b[0;32m     16\u001b[0m \u001b[38;5;28mprint\u001b[39m(contents)\n",
      "\u001b[1;31mValueError\u001b[0m: setting an array element with a sequence. The requested array has an inhomogeneous shape after 1 dimensions. The detected shape was (4,) + inhomogeneous part."
     ]
    }
   ],
   "source": [
    "import numpy as np\n",
    "\n",
    "land = soup.select(\".sale_item\")\n",
    "result = []\n",
    "for item in land:\n",
    "    dic = {}\n",
    "    name = item.find(\"a\", attrs={\"target\": \"_blank\"}).text.strip()\n",
    "    items = [el.text.strip() for el in item.select(\"dt\")]\n",
    "    contents = [el.text.strip() for el in item.select(\"dd\")]\n",
    "\n",
    "    items_ = [item.split(\"/\") if \"/\" in item else item for item in items]\n",
    "    cont_ = [item.split(\"|\") if \"|\" in item else item for item in contents]\n",
    "    flattened_list = np.array(items_).flatten().tolist()\n",
    "    flattened_list = np.array(cont_).flatten().tolist()\n",
    "\n",
    "    print(contents)\n",
    "    dic[\"이름\"] = name\n",
    "    dic.update(dict(zip(items_, cont_)))\n",
    "\n",
    "    result.append(dic)\n",
    "\n",
    "result[0]"
   ]
  },
  {
   "cell_type": "code",
   "execution_count": null,
   "metadata": {},
   "outputs": [],
   "source": [
    "<li class=\"sale_item\">\n",
    "<div class=\"sale_box\">\n",
    "<div class=\"sale_tit\">\n",
    "<a href=\"#\" target=\"_blank\">H하우스장위</a>\n",
    "</div>\n",
    "<div class=\"sale_desc\">\n",
    "<img alt=\"\" class=\"thumb_img\" height=\"82\" src=\"https://search.pstatic.net/common/?src=https%3A%2F%2Flandthumb-phinf.pstatic.net%2F20200102_216%2Fisale_complex_1577947561833Uclja_JPEG%2Fuploadfile_202001025582218.jpg%3Ftype%3Dm232&amp;type=f82_82_q75\" width=\"82\"/>\n",
    "</div>\n",
    "<div class=\"sale_detail\">\n",
    "<dl class=\"detail_info\">\n",
    "<dt class=\"tit\">보증금</dt><dd class=\"txt\"><strong class=\"point\">16,000</strong> 만원</dd>\n",
    "<dt class=\"tit\">유형</dt><dd class=\"txt\">아파트<span class=\"bar\">|</span>일반민간임대</dd>\n",
    "<dt class=\"tit\">규모/면적</dt><dd class=\"txt\">분양 134세대<span class=\"bar\">|</span>45㎡~65㎡</dd>\n",
    "<dt class=\"tit\">위치</dt> <dd class=\"txt\">서울시 성북구 장위동</dd>\n",
    "</dl>\n",
    "</div>\n",
    "</div>\n",
    "</li>\n"
   ]
  }
 ],
 "metadata": {
  "kernelspec": {
   "display_name": "env_310",
   "language": "python",
   "name": "python3"
  },
  "language_info": {
   "codemirror_mode": {
    "name": "ipython",
    "version": 3
   },
   "file_extension": ".py",
   "mimetype": "text/x-python",
   "name": "python",
   "nbconvert_exporter": "python",
   "pygments_lexer": "ipython3",
   "version": "3.10.13"
  }
 },
 "nbformat": 4,
 "nbformat_minor": 2
}
